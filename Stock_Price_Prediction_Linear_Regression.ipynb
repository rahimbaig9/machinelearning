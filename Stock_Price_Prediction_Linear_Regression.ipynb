{
  "nbformat": 4,
  "nbformat_minor": 0,
  "metadata": {
    "colab": {
      "provenance": []
    },
    "kernelspec": {
      "name": "python3",
      "display_name": "Python 3"
    },
    "language_info": {
      "name": "python"
    }
  },
  "cells": [
    {
      "cell_type": "markdown",
      "source": [
        "## Stock Price Prediction using Linear Regression##"
      ],
      "metadata": {
        "id": "v_6Zqoq0wNyR"
      }
    },
    {
      "cell_type": "markdown",
      "source": [
        "Linear Regression is a machine learning algorithm based on supervised learning. It performs a regression task. Regression models a target prediction value based on independent variables. It is mostly used for finding out the relationship between variables and forecasting. Different regression models differ based on – the kind of relationship between dependent and independent variables they are considering, and the number of independent variables getting used."
      ],
      "metadata": {
        "id": "2AGx3U1Pwisd"
      }
    },
    {
      "cell_type": "markdown",
      "source": [
        "The simplest form of the regression equation with one dependent and one independent variable is defined by the formula y = c + b*x, where y = estimated dependent variable score, c = constant, b = regression coefficient, and x = score on the independent variable.\n",
        "\n",
        "Naming the Variables.  There are many names for a regression’s dependent variable.  It may be called an outcome variable, criterion variable, endogenous variable, or regressand.  The independent variables can be called exogenous variables, predictor variables, or regressors.\n",
        "\n",
        "Three major uses for regression analysis are (1) determining the strength of predictors, (2) forecasting an effect, and (3) trend forecasting."
      ],
      "metadata": {
        "id": "dwMLM44Awm4O"
      }
    },
    {
      "cell_type": "markdown",
      "source": [
        "Mathematically, we can represent a linear regression as:\n",
        "\n",
        "**y= a0+a1x+ ε**\n",
        "\n",
        "Y= Dependent Variable (Target Variable)\n",
        "X= Independent Variable (predictor Variable)\n",
        "a0= intercept of the line (Gives an additional degree of freedom)\n",
        "a1 = Linear regression coefficient (scale factor to each input value).\n",
        "ε = random error"
      ],
      "metadata": {
        "id": "guWBWLlIxbd_"
      }
    },
    {
      "cell_type": "markdown",
      "source": [
        "**Import Necessary Libraries**"
      ],
      "metadata": {
        "id": "rwRKPJYQyfnP"
      }
    },
    {
      "cell_type": "code",
      "source": [
        "#importing the libraries\n",
        "import math\n",
        "import numpy as np\n",
        "import pandas as pd\n",
        "from sklearn.preprocessing import MinMaxScaler\n",
        "import matplotlib.pyplot as plt\n",
        "plt.style.use('fivethirtyeight')"
      ],
      "metadata": {
        "id": "XRfioAANylfC"
      },
      "execution_count": null,
      "outputs": []
    },
    {
      "cell_type": "code",
      "source": [
        "print(\"Hello\")"
      ],
      "metadata": {
        "colab": {
          "base_uri": "https://localhost:8080/"
        },
        "id": "HSj4lVxcERF2",
        "outputId": "cce3f312-813e-42c4-b5fa-d2ce8ed8a1e0"
      },
      "execution_count": null,
      "outputs": [
        {
          "output_type": "stream",
          "name": "stdout",
          "text": [
            "Hello\n"
          ]
        }
      ]
    },
    {
      "cell_type": "markdown",
      "source": [
        "# **Initial Python Program**"
      ],
      "metadata": {
        "id": "p9gnU_KNEgx5"
      }
    },
    {
      "cell_type": "code",
      "source": [
        "from google.colab import drive\n",
        "drive.mount('/content/drive')\n",
        "\n",
        "# Data Handling: Load CSV\n",
        "df = pd.read_csv(\"/content/drive/MyDrive/ML Lab dataset/AAPL.csv\")\n",
        "\n",
        "# get to know list of features, data shape, stat. description.\n",
        "print(df.shape)\n",
        "\n",
        "print(\"First 5 lines:\")\n",
        "print(df.head(5))\n",
        "\n",
        "print(\"describe: \")\n",
        "print(df.describe())\n",
        "\n",
        "print(\"info: \")\n",
        "print(df.info())"
      ],
      "metadata": {
        "colab": {
          "base_uri": "https://localhost:8080/"
        },
        "id": "F4TKAmI9zc6U",
        "outputId": "b81505a7-1785-4308-9a60-27e4f286b0e5"
      },
      "execution_count": null,
      "outputs": [
        {
          "output_type": "stream",
          "name": "stdout",
          "text": [
            "Drive already mounted at /content/drive; to attempt to forcibly remount, call drive.mount(\"/content/drive\", force_remount=True).\n",
            "(1258, 15)\n",
            "First 5 lines:\n",
            "   Unnamed: 0 symbol                       date    close     high     low  \\\n",
            "0           0   AAPL  2015-05-27 00:00:00+00:00  132.045  132.260  130.05   \n",
            "1           1   AAPL  2015-05-28 00:00:00+00:00  131.780  131.950  131.10   \n",
            "2           2   AAPL  2015-05-29 00:00:00+00:00  130.280  131.450  129.90   \n",
            "3           3   AAPL  2015-06-01 00:00:00+00:00  130.535  131.390  130.05   \n",
            "4           4   AAPL  2015-06-02 00:00:00+00:00  129.960  130.655  129.32   \n",
            "\n",
            "     open    volume    adjClose     adjHigh      adjLow     adjOpen  \\\n",
            "0  130.34  45833246  121.682558  121.880685  119.844118  120.111360   \n",
            "1  131.86  30733309  121.438354  121.595013  120.811718  121.512076   \n",
            "2  131.23  50884452  120.056069  121.134251  119.705890  120.931516   \n",
            "3  131.20  32112797  120.291057  121.078960  119.844118  120.903870   \n",
            "4  129.86  33667627  119.761181  120.401640  119.171406  119.669029   \n",
            "\n",
            "   adjVolume  divCash  splitFactor  \n",
            "0   45833246      0.0          1.0  \n",
            "1   30733309      0.0          1.0  \n",
            "2   50884452      0.0          1.0  \n",
            "3   32112797      0.0          1.0  \n",
            "4   33667627      0.0          1.0  \n",
            "describe: \n",
            "        Unnamed: 0        close         high          low         open  \\\n",
            "count  1258.000000  1258.000000  1258.000000  1258.000000  1258.000000   \n",
            "mean    628.500000   167.723998   169.230475   166.039780   167.548266   \n",
            "std     363.297628    56.850796    57.500128    56.006773    56.612707   \n",
            "min       0.000000    90.340000    91.670000    89.470000    90.000000   \n",
            "25%     314.250000   116.327500   117.405000   115.602500   116.482500   \n",
            "50%     628.500000   160.485000   162.080000   158.974250   160.345000   \n",
            "75%     942.750000   199.785000   201.277500   198.170000   199.520000   \n",
            "max    1257.000000   327.200000   327.850000   323.350000   324.730000   \n",
            "\n",
            "             volume     adjClose      adjHigh       adjLow      adjOpen  \\\n",
            "count  1.258000e+03  1258.000000  1258.000000  1258.000000  1258.000000   \n",
            "mean   3.500397e+07   162.666715   164.131054   161.028013   162.493082   \n",
            "std    1.729100e+07    58.733820    59.402842    57.869246    58.494560   \n",
            "min    1.136204e+07    84.954351    86.205062    84.136216    84.634620   \n",
            "25%    2.359205e+07   109.484490   110.393556   107.962457   109.135002   \n",
            "50%    3.064771e+07   154.710645   156.091874   153.054341   154.410017   \n",
            "75%    4.100487e+07   196.960053   198.428438   195.281553   196.452903   \n",
            "max    1.622063e+08   326.337147   326.357095   322.497300   323.873661   \n",
            "\n",
            "          adjVolume      divCash  splitFactor  \n",
            "count  1.258000e+03  1258.000000       1258.0  \n",
            "mean   3.500397e+07     0.010477          1.0  \n",
            "std    1.729100e+07     0.083366          0.0  \n",
            "min    1.136204e+07     0.000000          1.0  \n",
            "25%    2.359205e+07     0.000000          1.0  \n",
            "50%    3.064771e+07     0.000000          1.0  \n",
            "75%    4.100487e+07     0.000000          1.0  \n",
            "max    1.622063e+08     0.820000          1.0  \n",
            "info: \n",
            "<class 'pandas.core.frame.DataFrame'>\n",
            "RangeIndex: 1258 entries, 0 to 1257\n",
            "Data columns (total 15 columns):\n",
            " #   Column       Non-Null Count  Dtype  \n",
            "---  ------       --------------  -----  \n",
            " 0   Unnamed: 0   1258 non-null   int64  \n",
            " 1   symbol       1258 non-null   object \n",
            " 2   date         1258 non-null   object \n",
            " 3   close        1258 non-null   float64\n",
            " 4   high         1258 non-null   float64\n",
            " 5   low          1258 non-null   float64\n",
            " 6   open         1258 non-null   float64\n",
            " 7   volume       1258 non-null   int64  \n",
            " 8   adjClose     1258 non-null   float64\n",
            " 9   adjHigh      1258 non-null   float64\n",
            " 10  adjLow       1258 non-null   float64\n",
            " 11  adjOpen      1258 non-null   float64\n",
            " 12  adjVolume    1258 non-null   int64  \n",
            " 13  divCash      1258 non-null   float64\n",
            " 14  splitFactor  1258 non-null   float64\n",
            "dtypes: float64(10), int64(3), object(2)\n",
            "memory usage: 147.5+ KB\n",
            "None\n"
          ]
        }
      ]
    },
    {
      "cell_type": "code",
      "source": [
        "df"
      ],
      "metadata": {
        "colab": {
          "base_uri": "https://localhost:8080/",
          "height": 424
        },
        "id": "QTBHrhj61uFh",
        "outputId": "576be98d-e3c4-434b-9a63-3e8a30525759"
      },
      "execution_count": null,
      "outputs": [
        {
          "output_type": "execute_result",
          "data": {
            "text/plain": [
              "      Unnamed: 0 symbol                       date    close     high  \\\n",
              "0              0   AAPL  2015-05-27 00:00:00+00:00  132.045  132.260   \n",
              "1              1   AAPL  2015-05-28 00:00:00+00:00  131.780  131.950   \n",
              "2              2   AAPL  2015-05-29 00:00:00+00:00  130.280  131.450   \n",
              "3              3   AAPL  2015-06-01 00:00:00+00:00  130.535  131.390   \n",
              "4              4   AAPL  2015-06-02 00:00:00+00:00  129.960  130.655   \n",
              "...          ...    ...                        ...      ...      ...   \n",
              "1253        1253   AAPL  2020-05-18 00:00:00+00:00  314.960  316.500   \n",
              "1254        1254   AAPL  2020-05-19 00:00:00+00:00  313.140  318.520   \n",
              "1255        1255   AAPL  2020-05-20 00:00:00+00:00  319.230  319.520   \n",
              "1256        1256   AAPL  2020-05-21 00:00:00+00:00  316.850  320.890   \n",
              "1257        1257   AAPL  2020-05-22 00:00:00+00:00  318.890  319.230   \n",
              "\n",
              "           low    open    volume    adjClose     adjHigh      adjLow  \\\n",
              "0     130.0500  130.34  45833246  121.682558  121.880685  119.844118   \n",
              "1     131.1000  131.86  30733309  121.438354  121.595013  120.811718   \n",
              "2     129.9000  131.23  50884452  120.056069  121.134251  119.705890   \n",
              "3     130.0500  131.20  32112797  120.291057  121.078960  119.844118   \n",
              "4     129.3200  129.86  33667627  119.761181  120.401640  119.171406   \n",
              "...        ...     ...       ...         ...         ...         ...   \n",
              "1253  310.3241  313.17  33843125  314.960000  316.500000  310.324100   \n",
              "1254  313.0100  315.03  25432385  313.140000  318.520000  313.010000   \n",
              "1255  316.2000  316.68  27876215  319.230000  319.520000  316.200000   \n",
              "1256  315.8700  318.66  25672211  316.850000  320.890000  315.870000   \n",
              "1257  315.3500  315.77  20450754  318.890000  319.230000  315.350000   \n",
              "\n",
              "         adjOpen  adjVolume  divCash  splitFactor  \n",
              "0     120.111360   45833246      0.0          1.0  \n",
              "1     121.512076   30733309      0.0          1.0  \n",
              "2     120.931516   50884452      0.0          1.0  \n",
              "3     120.903870   32112797      0.0          1.0  \n",
              "4     119.669029   33667627      0.0          1.0  \n",
              "...          ...        ...      ...          ...  \n",
              "1253  313.170000   33843125      0.0          1.0  \n",
              "1254  315.030000   25432385      0.0          1.0  \n",
              "1255  316.680000   27876215      0.0          1.0  \n",
              "1256  318.660000   25672211      0.0          1.0  \n",
              "1257  315.770000   20450754      0.0          1.0  \n",
              "\n",
              "[1258 rows x 15 columns]"
            ],
            "text/html": [
              "\n",
              "  <div id=\"df-6e76f299-9776-4f9a-b5d8-d7337cb3e3c9\">\n",
              "    <div class=\"colab-df-container\">\n",
              "      <div>\n",
              "<style scoped>\n",
              "    .dataframe tbody tr th:only-of-type {\n",
              "        vertical-align: middle;\n",
              "    }\n",
              "\n",
              "    .dataframe tbody tr th {\n",
              "        vertical-align: top;\n",
              "    }\n",
              "\n",
              "    .dataframe thead th {\n",
              "        text-align: right;\n",
              "    }\n",
              "</style>\n",
              "<table border=\"1\" class=\"dataframe\">\n",
              "  <thead>\n",
              "    <tr style=\"text-align: right;\">\n",
              "      <th></th>\n",
              "      <th>Unnamed: 0</th>\n",
              "      <th>symbol</th>\n",
              "      <th>date</th>\n",
              "      <th>close</th>\n",
              "      <th>high</th>\n",
              "      <th>low</th>\n",
              "      <th>open</th>\n",
              "      <th>volume</th>\n",
              "      <th>adjClose</th>\n",
              "      <th>adjHigh</th>\n",
              "      <th>adjLow</th>\n",
              "      <th>adjOpen</th>\n",
              "      <th>adjVolume</th>\n",
              "      <th>divCash</th>\n",
              "      <th>splitFactor</th>\n",
              "    </tr>\n",
              "  </thead>\n",
              "  <tbody>\n",
              "    <tr>\n",
              "      <th>0</th>\n",
              "      <td>0</td>\n",
              "      <td>AAPL</td>\n",
              "      <td>2015-05-27 00:00:00+00:00</td>\n",
              "      <td>132.045</td>\n",
              "      <td>132.260</td>\n",
              "      <td>130.0500</td>\n",
              "      <td>130.34</td>\n",
              "      <td>45833246</td>\n",
              "      <td>121.682558</td>\n",
              "      <td>121.880685</td>\n",
              "      <td>119.844118</td>\n",
              "      <td>120.111360</td>\n",
              "      <td>45833246</td>\n",
              "      <td>0.0</td>\n",
              "      <td>1.0</td>\n",
              "    </tr>\n",
              "    <tr>\n",
              "      <th>1</th>\n",
              "      <td>1</td>\n",
              "      <td>AAPL</td>\n",
              "      <td>2015-05-28 00:00:00+00:00</td>\n",
              "      <td>131.780</td>\n",
              "      <td>131.950</td>\n",
              "      <td>131.1000</td>\n",
              "      <td>131.86</td>\n",
              "      <td>30733309</td>\n",
              "      <td>121.438354</td>\n",
              "      <td>121.595013</td>\n",
              "      <td>120.811718</td>\n",
              "      <td>121.512076</td>\n",
              "      <td>30733309</td>\n",
              "      <td>0.0</td>\n",
              "      <td>1.0</td>\n",
              "    </tr>\n",
              "    <tr>\n",
              "      <th>2</th>\n",
              "      <td>2</td>\n",
              "      <td>AAPL</td>\n",
              "      <td>2015-05-29 00:00:00+00:00</td>\n",
              "      <td>130.280</td>\n",
              "      <td>131.450</td>\n",
              "      <td>129.9000</td>\n",
              "      <td>131.23</td>\n",
              "      <td>50884452</td>\n",
              "      <td>120.056069</td>\n",
              "      <td>121.134251</td>\n",
              "      <td>119.705890</td>\n",
              "      <td>120.931516</td>\n",
              "      <td>50884452</td>\n",
              "      <td>0.0</td>\n",
              "      <td>1.0</td>\n",
              "    </tr>\n",
              "    <tr>\n",
              "      <th>3</th>\n",
              "      <td>3</td>\n",
              "      <td>AAPL</td>\n",
              "      <td>2015-06-01 00:00:00+00:00</td>\n",
              "      <td>130.535</td>\n",
              "      <td>131.390</td>\n",
              "      <td>130.0500</td>\n",
              "      <td>131.20</td>\n",
              "      <td>32112797</td>\n",
              "      <td>120.291057</td>\n",
              "      <td>121.078960</td>\n",
              "      <td>119.844118</td>\n",
              "      <td>120.903870</td>\n",
              "      <td>32112797</td>\n",
              "      <td>0.0</td>\n",
              "      <td>1.0</td>\n",
              "    </tr>\n",
              "    <tr>\n",
              "      <th>4</th>\n",
              "      <td>4</td>\n",
              "      <td>AAPL</td>\n",
              "      <td>2015-06-02 00:00:00+00:00</td>\n",
              "      <td>129.960</td>\n",
              "      <td>130.655</td>\n",
              "      <td>129.3200</td>\n",
              "      <td>129.86</td>\n",
              "      <td>33667627</td>\n",
              "      <td>119.761181</td>\n",
              "      <td>120.401640</td>\n",
              "      <td>119.171406</td>\n",
              "      <td>119.669029</td>\n",
              "      <td>33667627</td>\n",
              "      <td>0.0</td>\n",
              "      <td>1.0</td>\n",
              "    </tr>\n",
              "    <tr>\n",
              "      <th>...</th>\n",
              "      <td>...</td>\n",
              "      <td>...</td>\n",
              "      <td>...</td>\n",
              "      <td>...</td>\n",
              "      <td>...</td>\n",
              "      <td>...</td>\n",
              "      <td>...</td>\n",
              "      <td>...</td>\n",
              "      <td>...</td>\n",
              "      <td>...</td>\n",
              "      <td>...</td>\n",
              "      <td>...</td>\n",
              "      <td>...</td>\n",
              "      <td>...</td>\n",
              "      <td>...</td>\n",
              "    </tr>\n",
              "    <tr>\n",
              "      <th>1253</th>\n",
              "      <td>1253</td>\n",
              "      <td>AAPL</td>\n",
              "      <td>2020-05-18 00:00:00+00:00</td>\n",
              "      <td>314.960</td>\n",
              "      <td>316.500</td>\n",
              "      <td>310.3241</td>\n",
              "      <td>313.17</td>\n",
              "      <td>33843125</td>\n",
              "      <td>314.960000</td>\n",
              "      <td>316.500000</td>\n",
              "      <td>310.324100</td>\n",
              "      <td>313.170000</td>\n",
              "      <td>33843125</td>\n",
              "      <td>0.0</td>\n",
              "      <td>1.0</td>\n",
              "    </tr>\n",
              "    <tr>\n",
              "      <th>1254</th>\n",
              "      <td>1254</td>\n",
              "      <td>AAPL</td>\n",
              "      <td>2020-05-19 00:00:00+00:00</td>\n",
              "      <td>313.140</td>\n",
              "      <td>318.520</td>\n",
              "      <td>313.0100</td>\n",
              "      <td>315.03</td>\n",
              "      <td>25432385</td>\n",
              "      <td>313.140000</td>\n",
              "      <td>318.520000</td>\n",
              "      <td>313.010000</td>\n",
              "      <td>315.030000</td>\n",
              "      <td>25432385</td>\n",
              "      <td>0.0</td>\n",
              "      <td>1.0</td>\n",
              "    </tr>\n",
              "    <tr>\n",
              "      <th>1255</th>\n",
              "      <td>1255</td>\n",
              "      <td>AAPL</td>\n",
              "      <td>2020-05-20 00:00:00+00:00</td>\n",
              "      <td>319.230</td>\n",
              "      <td>319.520</td>\n",
              "      <td>316.2000</td>\n",
              "      <td>316.68</td>\n",
              "      <td>27876215</td>\n",
              "      <td>319.230000</td>\n",
              "      <td>319.520000</td>\n",
              "      <td>316.200000</td>\n",
              "      <td>316.680000</td>\n",
              "      <td>27876215</td>\n",
              "      <td>0.0</td>\n",
              "      <td>1.0</td>\n",
              "    </tr>\n",
              "    <tr>\n",
              "      <th>1256</th>\n",
              "      <td>1256</td>\n",
              "      <td>AAPL</td>\n",
              "      <td>2020-05-21 00:00:00+00:00</td>\n",
              "      <td>316.850</td>\n",
              "      <td>320.890</td>\n",
              "      <td>315.8700</td>\n",
              "      <td>318.66</td>\n",
              "      <td>25672211</td>\n",
              "      <td>316.850000</td>\n",
              "      <td>320.890000</td>\n",
              "      <td>315.870000</td>\n",
              "      <td>318.660000</td>\n",
              "      <td>25672211</td>\n",
              "      <td>0.0</td>\n",
              "      <td>1.0</td>\n",
              "    </tr>\n",
              "    <tr>\n",
              "      <th>1257</th>\n",
              "      <td>1257</td>\n",
              "      <td>AAPL</td>\n",
              "      <td>2020-05-22 00:00:00+00:00</td>\n",
              "      <td>318.890</td>\n",
              "      <td>319.230</td>\n",
              "      <td>315.3500</td>\n",
              "      <td>315.77</td>\n",
              "      <td>20450754</td>\n",
              "      <td>318.890000</td>\n",
              "      <td>319.230000</td>\n",
              "      <td>315.350000</td>\n",
              "      <td>315.770000</td>\n",
              "      <td>20450754</td>\n",
              "      <td>0.0</td>\n",
              "      <td>1.0</td>\n",
              "    </tr>\n",
              "  </tbody>\n",
              "</table>\n",
              "<p>1258 rows × 15 columns</p>\n",
              "</div>\n",
              "      <button class=\"colab-df-convert\" onclick=\"convertToInteractive('df-6e76f299-9776-4f9a-b5d8-d7337cb3e3c9')\"\n",
              "              title=\"Convert this dataframe to an interactive table.\"\n",
              "              style=\"display:none;\">\n",
              "        \n",
              "  <svg xmlns=\"http://www.w3.org/2000/svg\" height=\"24px\"viewBox=\"0 0 24 24\"\n",
              "       width=\"24px\">\n",
              "    <path d=\"M0 0h24v24H0V0z\" fill=\"none\"/>\n",
              "    <path d=\"M18.56 5.44l.94 2.06.94-2.06 2.06-.94-2.06-.94-.94-2.06-.94 2.06-2.06.94zm-11 1L8.5 8.5l.94-2.06 2.06-.94-2.06-.94L8.5 2.5l-.94 2.06-2.06.94zm10 10l.94 2.06.94-2.06 2.06-.94-2.06-.94-.94-2.06-.94 2.06-2.06.94z\"/><path d=\"M17.41 7.96l-1.37-1.37c-.4-.4-.92-.59-1.43-.59-.52 0-1.04.2-1.43.59L10.3 9.45l-7.72 7.72c-.78.78-.78 2.05 0 2.83L4 21.41c.39.39.9.59 1.41.59.51 0 1.02-.2 1.41-.59l7.78-7.78 2.81-2.81c.8-.78.8-2.07 0-2.86zM5.41 20L4 18.59l7.72-7.72 1.47 1.35L5.41 20z\"/>\n",
              "  </svg>\n",
              "      </button>\n",
              "      \n",
              "  <style>\n",
              "    .colab-df-container {\n",
              "      display:flex;\n",
              "      flex-wrap:wrap;\n",
              "      gap: 12px;\n",
              "    }\n",
              "\n",
              "    .colab-df-convert {\n",
              "      background-color: #E8F0FE;\n",
              "      border: none;\n",
              "      border-radius: 50%;\n",
              "      cursor: pointer;\n",
              "      display: none;\n",
              "      fill: #1967D2;\n",
              "      height: 32px;\n",
              "      padding: 0 0 0 0;\n",
              "      width: 32px;\n",
              "    }\n",
              "\n",
              "    .colab-df-convert:hover {\n",
              "      background-color: #E2EBFA;\n",
              "      box-shadow: 0px 1px 2px rgba(60, 64, 67, 0.3), 0px 1px 3px 1px rgba(60, 64, 67, 0.15);\n",
              "      fill: #174EA6;\n",
              "    }\n",
              "\n",
              "    [theme=dark] .colab-df-convert {\n",
              "      background-color: #3B4455;\n",
              "      fill: #D2E3FC;\n",
              "    }\n",
              "\n",
              "    [theme=dark] .colab-df-convert:hover {\n",
              "      background-color: #434B5C;\n",
              "      box-shadow: 0px 1px 3px 1px rgba(0, 0, 0, 0.15);\n",
              "      filter: drop-shadow(0px 1px 2px rgba(0, 0, 0, 0.3));\n",
              "      fill: #FFFFFF;\n",
              "    }\n",
              "  </style>\n",
              "\n",
              "      <script>\n",
              "        const buttonEl =\n",
              "          document.querySelector('#df-6e76f299-9776-4f9a-b5d8-d7337cb3e3c9 button.colab-df-convert');\n",
              "        buttonEl.style.display =\n",
              "          google.colab.kernel.accessAllowed ? 'block' : 'none';\n",
              "\n",
              "        async function convertToInteractive(key) {\n",
              "          const element = document.querySelector('#df-6e76f299-9776-4f9a-b5d8-d7337cb3e3c9');\n",
              "          const dataTable =\n",
              "            await google.colab.kernel.invokeFunction('convertToInteractive',\n",
              "                                                     [key], {});\n",
              "          if (!dataTable) return;\n",
              "\n",
              "          const docLinkHtml = 'Like what you see? Visit the ' +\n",
              "            '<a target=\"_blank\" href=https://colab.research.google.com/notebooks/data_table.ipynb>data table notebook</a>'\n",
              "            + ' to learn more about interactive tables.';\n",
              "          element.innerHTML = '';\n",
              "          dataTable['output_type'] = 'display_data';\n",
              "          await google.colab.output.renderOutput(dataTable, element);\n",
              "          const docLink = document.createElement('div');\n",
              "          docLink.innerHTML = docLinkHtml;\n",
              "          element.appendChild(docLink);\n",
              "        }\n",
              "      </script>\n",
              "    </div>\n",
              "  </div>\n",
              "  "
            ]
          },
          "metadata": {},
          "execution_count": 27
        }
      ]
    },
    {
      "cell_type": "markdown",
      "source": [
        "**Data Preprocessing**"
      ],
      "metadata": {
        "id": "QsmoEhOT3Ix6"
      }
    },
    {
      "cell_type": "code",
      "source": [
        "df.isnull().sum()"
      ],
      "metadata": {
        "colab": {
          "base_uri": "https://localhost:8080/"
        },
        "id": "ivGsggHs2_zz",
        "outputId": "05b40742-e50a-4d79-e52b-ea1849259920"
      },
      "execution_count": null,
      "outputs": [
        {
          "output_type": "execute_result",
          "data": {
            "text/plain": [
              "Unnamed: 0     0\n",
              "symbol         0\n",
              "date           0\n",
              "close          0\n",
              "high           0\n",
              "low            0\n",
              "open           0\n",
              "volume         0\n",
              "adjClose       0\n",
              "adjHigh        0\n",
              "adjLow         0\n",
              "adjOpen        0\n",
              "adjVolume      0\n",
              "divCash        0\n",
              "splitFactor    0\n",
              "dtype: int64"
            ]
          },
          "metadata": {},
          "execution_count": 28
        }
      ]
    },
    {
      "cell_type": "code",
      "source": [
        "df = df.loc[(df['symbol'] == 'AAPL')]\n",
        "df = df.drop(columns=['symbol'])\n",
        "df = df[['date','open','close','low','volume','high']]"
      ],
      "metadata": {
        "id": "1XfwGYN23NbW"
      },
      "execution_count": null,
      "outputs": []
    },
    {
      "cell_type": "code",
      "source": [
        "plt.figure(figsize=(16,8))\n",
        "plt.title('Closing Price of the Stock Historically')\n",
        "plt.plot(df['close'])\n",
        "plt.xlabel('Year', fontsize=20)\n",
        "plt.ylabel('Closing Price Historically ($)', fontsize=20)\n",
        "plt.show()"
      ],
      "metadata": {
        "colab": {
          "base_uri": "https://localhost:8080/",
          "height": 559
        },
        "id": "4arhjowc56SP",
        "outputId": "218c1317-9bbe-49af-d52d-4d21348107b3"
      },
      "execution_count": null,
      "outputs": [
        {
          "output_type": "display_data",
          "data": {
            "text/plain": [
              "<Figure size 1152x576 with 1 Axes>"
            ],
            "image/png": "[encoded data removed]"
          },
          "metadata": {}
        }
      ]
    },
    {
      "cell_type": "markdown",
      "source": [
        "##Regression Model##"
      ],
      "metadata": {
        "id": "JZkA_1gs7QnH"
      }
    },
    {
      "cell_type": "code",
      "source": [
        "from sklearn import metrics\n",
        "%matplotlib inline\n",
        "import matplotlib.pyplot as plt\n",
        "import math"
      ],
      "metadata": {
        "id": "4CEQ-9PI7TzS"
      },
      "execution_count": null,
      "outputs": []
    },
    {
      "cell_type": "code",
      "source": [
        "plt.scatter(df.date, df.close,  color='blue')\n",
        "plt.xlabel(\"Time\")\n",
        "plt.ylabel(\"Close\")\n",
        "plt.show()"
      ],
      "metadata": {
        "colab": {
          "base_uri": "https://localhost:8080/",
          "height": 279
        },
        "id": "K62FRnkP6UQL",
        "outputId": "8d5f55cd-6aa1-454d-90a2-2e0b4b846535"
      },
      "execution_count": null,
      "outputs": [
        {
          "output_type": "display_data",
          "data": {
            "text/plain": [
              "<Figure size 432x288 with 1 Axes>"
            ],
            "image/png": "[encoded data removed]"
          },
          "metadata": {
            "needs_background": "light"
          }
        }
      ]
    },
    {
      "cell_type": "code",
      "source": [
        "df.shape"
      ],
      "metadata": {
        "colab": {
          "base_uri": "https://localhost:8080/"
        },
        "id": "AVP2weTb7o4S",
        "outputId": "b141fbd4-8e31-4af6-b587-f9dded7d2880"
      },
      "execution_count": null,
      "outputs": [
        {
          "output_type": "execute_result",
          "data": {
            "text/plain": [
              "(1258, 6)"
            ]
          },
          "metadata": {},
          "execution_count": 37
        }
      ]
    },
    {
      "cell_type": "code",
      "source": [
        "df['date'] = pd.to_datetime(df.date)"
      ],
      "metadata": {
        "id": "_BWahOBG7_j2"
      },
      "execution_count": null,
      "outputs": []
    },
    {
      "cell_type": "code",
      "source": [
        "df.head()"
      ],
      "metadata": {
        "colab": {
          "base_uri": "https://localhost:8080/",
          "height": 206
        },
        "id": "8qKzQr088Id_",
        "outputId": "93823eea-9d28-437f-bc05-1bd068ee9788"
      },
      "execution_count": null,
      "outputs": [
        {
          "output_type": "execute_result",
          "data": {
            "text/plain": [
              "                       date    open    close     low    volume     high\n",
              "0 2015-05-27 00:00:00+00:00  130.34  132.045  130.05  45833246  132.260\n",
              "1 2015-05-28 00:00:00+00:00  131.86  131.780  131.10  30733309  131.950\n",
              "2 2015-05-29 00:00:00+00:00  131.23  130.280  129.90  50884452  131.450\n",
              "3 2015-06-01 00:00:00+00:00  131.20  130.535  130.05  32112797  131.390\n",
              "4 2015-06-02 00:00:00+00:00  129.86  129.960  129.32  33667627  130.655"
            ],
            "text/html": [
              "\n",
              "  <div id=\"df-0a2731ea-9d16-4814-bcf0-1bc6db8d8d52\">\n",
              "    <div class=\"colab-df-container\">\n",
              "      <div>\n",
              "<style scoped>\n",
              "    .dataframe tbody tr th:only-of-type {\n",
              "        vertical-align: middle;\n",
              "    }\n",
              "\n",
              "    .dataframe tbody tr th {\n",
              "        vertical-align: top;\n",
              "    }\n",
              "\n",
              "    .dataframe thead th {\n",
              "        text-align: right;\n",
              "    }\n",
              "</style>\n",
              "<table border=\"1\" class=\"dataframe\">\n",
              "  <thead>\n",
              "    <tr style=\"text-align: right;\">\n",
              "      <th></th>\n",
              "      <th>date</th>\n",
              "      <th>open</th>\n",
              "      <th>close</th>\n",
              "      <th>low</th>\n",
              "      <th>volume</th>\n",
              "      <th>high</th>\n",
              "    </tr>\n",
              "  </thead>\n",
              "  <tbody>\n",
              "    <tr>\n",
              "      <th>0</th>\n",
              "      <td>2015-05-27 00:00:00+00:00</td>\n",
              "      <td>130.34</td>\n",
              "      <td>132.045</td>\n",
              "      <td>130.05</td>\n",
              "      <td>45833246</td>\n",
              "      <td>132.260</td>\n",
              "    </tr>\n",
              "    <tr>\n",
              "      <th>1</th>\n",
              "      <td>2015-05-28 00:00:00+00:00</td>\n",
              "      <td>131.86</td>\n",
              "      <td>131.780</td>\n",
              "      <td>131.10</td>\n",
              "      <td>30733309</td>\n",
              "      <td>131.950</td>\n",
              "    </tr>\n",
              "    <tr>\n",
              "      <th>2</th>\n",
              "      <td>2015-05-29 00:00:00+00:00</td>\n",
              "      <td>131.23</td>\n",
              "      <td>130.280</td>\n",
              "      <td>129.90</td>\n",
              "      <td>50884452</td>\n",
              "      <td>131.450</td>\n",
              "    </tr>\n",
              "    <tr>\n",
              "      <th>3</th>\n",
              "      <td>2015-06-01 00:00:00+00:00</td>\n",
              "      <td>131.20</td>\n",
              "      <td>130.535</td>\n",
              "      <td>130.05</td>\n",
              "      <td>32112797</td>\n",
              "      <td>131.390</td>\n",
              "    </tr>\n",
              "    <tr>\n",
              "      <th>4</th>\n",
              "      <td>2015-06-02 00:00:00+00:00</td>\n",
              "      <td>129.86</td>\n",
              "      <td>129.960</td>\n",
              "      <td>129.32</td>\n",
              "      <td>33667627</td>\n",
              "      <td>130.655</td>\n",
              "    </tr>\n",
              "  </tbody>\n",
              "</table>\n",
              "</div>\n",
              "      <button class=\"colab-df-convert\" onclick=\"convertToInteractive('df-0a2731ea-9d16-4814-bcf0-1bc6db8d8d52')\"\n",
              "              title=\"Convert this dataframe to an interactive table.\"\n",
              "              style=\"display:none;\">\n",
              "        \n",
              "  <svg xmlns=\"http://www.w3.org/2000/svg\" height=\"24px\"viewBox=\"0 0 24 24\"\n",
              "       width=\"24px\">\n",
              "    <path d=\"M0 0h24v24H0V0z\" fill=\"none\"/>\n",
              "    <path d=\"M18.56 5.44l.94 2.06.94-2.06 2.06-.94-2.06-.94-.94-2.06-.94 2.06-2.06.94zm-11 1L8.5 8.5l.94-2.06 2.06-.94-2.06-.94L8.5 2.5l-.94 2.06-2.06.94zm10 10l.94 2.06.94-2.06 2.06-.94-2.06-.94-.94-2.06-.94 2.06-2.06.94z\"/><path d=\"M17.41 7.96l-1.37-1.37c-.4-.4-.92-.59-1.43-.59-.52 0-1.04.2-1.43.59L10.3 9.45l-7.72 7.72c-.78.78-.78 2.05 0 2.83L4 21.41c.39.39.9.59 1.41.59.51 0 1.02-.2 1.41-.59l7.78-7.78 2.81-2.81c.8-.78.8-2.07 0-2.86zM5.41 20L4 18.59l7.72-7.72 1.47 1.35L5.41 20z\"/>\n",
              "  </svg>\n",
              "      </button>\n",
              "      \n",
              "  <style>\n",
              "    .colab-df-container {\n",
              "      display:flex;\n",
              "      flex-wrap:wrap;\n",
              "      gap: 12px;\n",
              "    }\n",
              "\n",
              "    .colab-df-convert {\n",
              "      background-color: #E8F0FE;\n",
              "      border: none;\n",
              "      border-radius: 50%;\n",
              "      cursor: pointer;\n",
              "      display: none;\n",
              "      fill: #1967D2;\n",
              "      height: 32px;\n",
              "      padding: 0 0 0 0;\n",
              "      width: 32px;\n",
              "    }\n",
              "\n",
              "    .colab-df-convert:hover {\n",
              "      background-color: #E2EBFA;\n",
              "      box-shadow: 0px 1px 2px rgba(60, 64, 67, 0.3), 0px 1px 3px 1px rgba(60, 64, 67, 0.15);\n",
              "      fill: #174EA6;\n",
              "    }\n",
              "\n",
              "    [theme=dark] .colab-df-convert {\n",
              "      background-color: #3B4455;\n",
              "      fill: #D2E3FC;\n",
              "    }\n",
              "\n",
              "    [theme=dark] .colab-df-convert:hover {\n",
              "      background-color: #434B5C;\n",
              "      box-shadow: 0px 1px 3px 1px rgba(0, 0, 0, 0.15);\n",
              "      filter: drop-shadow(0px 1px 2px rgba(0, 0, 0, 0.3));\n",
              "      fill: #FFFFFF;\n",
              "    }\n",
              "  </style>\n",
              "\n",
              "      <script>\n",
              "        const buttonEl =\n",
              "          document.querySelector('#df-0a2731ea-9d16-4814-bcf0-1bc6db8d8d52 button.colab-df-convert');\n",
              "        buttonEl.style.display =\n",
              "          google.colab.kernel.accessAllowed ? 'block' : 'none';\n",
              "\n",
              "        async function convertToInteractive(key) {\n",
              "          const element = document.querySelector('#df-0a2731ea-9d16-4814-bcf0-1bc6db8d8d52');\n",
              "          const dataTable =\n",
              "            await google.colab.kernel.invokeFunction('convertToInteractive',\n",
              "                                                     [key], {});\n",
              "          if (!dataTable) return;\n",
              "\n",
              "          const docLinkHtml = 'Like what you see? Visit the ' +\n",
              "            '<a target=\"_blank\" href=https://colab.research.google.com/notebooks/data_table.ipynb>data table notebook</a>'\n",
              "            + ' to learn more about interactive tables.';\n",
              "          element.innerHTML = '';\n",
              "          dataTable['output_type'] = 'display_data';\n",
              "          await google.colab.output.renderOutput(dataTable, element);\n",
              "          const docLink = document.createElement('div');\n",
              "          docLink.innerHTML = docLinkHtml;\n",
              "          element.appendChild(docLink);\n",
              "        }\n",
              "      </script>\n",
              "    </div>\n",
              "  </div>\n",
              "  "
            ]
          },
          "metadata": {},
          "execution_count": 39
        }
      ]
    },
    {
      "cell_type": "code",
      "source": [
        "print(len(df))"
      ],
      "metadata": {
        "colab": {
          "base_uri": "https://localhost:8080/"
        },
        "id": "3BCfbAd18PIk",
        "outputId": "8b792c47-f3dc-4d13-c18d-c06f5148a4df"
      },
      "execution_count": null,
      "outputs": [
        {
          "output_type": "stream",
          "name": "stdout",
          "text": [
            "1258\n"
          ]
        }
      ]
    },
    {
      "cell_type": "code",
      "source": [
        "df['close'].plot(figsize=(16,8))"
      ],
      "metadata": {
        "colab": {
          "base_uri": "https://localhost:8080/",
          "height": 496
        },
        "id": "O6zxVWMl8Wg_",
        "outputId": "8d6c472a-a952-4514-a7d9-0d3e0b66f55e"
      },
      "execution_count": null,
      "outputs": [
        {
          "output_type": "execute_result",
          "data": {
            "text/plain": [
              "<matplotlib.axes._subplots.AxesSubplot at 0x7f69b37da310>"
            ]
          },
          "metadata": {},
          "execution_count": 42
        },
        {
          "output_type": "display_data",
          "data": {
            "text/plain": [
              "<Figure size 1152x576 with 1 Axes>"
            ],
            "image/png": "[encoded data removed]"
          },
          "metadata": {
            "needs_background": "light"
          }
        }
      ]
    },
    {
      "cell_type": "code",
      "source": [
        "x1 = df[['open', 'high','low', 'volume']]\n",
        "y1 = df['close']"
      ],
      "metadata": {
        "id": "1QcI6kMc8eX3"
      },
      "execution_count": null,
      "outputs": []
    },
    {
      "cell_type": "code",
      "source": [
        "from sklearn.model_selection import train_test_split\n",
        "x1_train, x1_test, y1_train, y1_test = train_test_split(x1, y1, random_state = 0)"
      ],
      "metadata": {
        "id": "YJY6brCM8qvu"
      },
      "execution_count": null,
      "outputs": []
    },
    {
      "cell_type": "code",
      "source": [
        "x1_train.shape"
      ],
      "metadata": {
        "colab": {
          "base_uri": "https://localhost:8080/"
        },
        "id": "Ub9lZj268yMI",
        "outputId": "d11d6f1f-3a52-40eb-ad2b-713c172b41e3"
      },
      "execution_count": null,
      "outputs": [
        {
          "output_type": "execute_result",
          "data": {
            "text/plain": [
              "(943, 4)"
            ]
          },
          "metadata": {},
          "execution_count": 45
        }
      ]
    },
    {
      "cell_type": "code",
      "source": [
        "from sklearn.linear_model import LinearRegression\n",
        "from sklearn.metrics import confusion_matrix, accuracy_score\n",
        "regression = LinearRegression()"
      ],
      "metadata": {
        "id": "7O8FrzVz8_u9"
      },
      "execution_count": null,
      "outputs": []
    },
    {
      "cell_type": "code",
      "source": [
        "regression.fit(x1_train, y1_train)"
      ],
      "metadata": {
        "colab": {
          "base_uri": "https://localhost:8080/"
        },
        "id": "NzH8Ab6X9Njf",
        "outputId": "5d6f249e-2441-4b15-bcbc-ced7d8e8835a"
      },
      "execution_count": null,
      "outputs": [
        {
          "output_type": "execute_result",
          "data": {
            "text/plain": [
              "LinearRegression()"
            ]
          },
          "metadata": {},
          "execution_count": 47
        }
      ]
    },
    {
      "cell_type": "code",
      "source": [
        "print(regression.coef_)"
      ],
      "metadata": {
        "colab": {
          "base_uri": "https://localhost:8080/"
        },
        "id": "D-RNY-Mh9Tg3",
        "outputId": "34f6bff2-407d-4d70-cb6c-3ed7ee151d4d"
      },
      "execution_count": null,
      "outputs": [
        {
          "output_type": "stream",
          "name": "stdout",
          "text": [
            "[-5.72199532e-01  6.87109453e-01  8.86463283e-01 -1.08492815e-09]\n"
          ]
        }
      ]
    },
    {
      "cell_type": "code",
      "source": [
        "print(regression.intercept_)"
      ],
      "metadata": {
        "colab": {
          "base_uri": "https://localhost:8080/"
        },
        "id": "ozERo3kk9W3r",
        "outputId": "41eacf86-a4d5-4288-f799-05deaf58d6ff"
      },
      "execution_count": null,
      "outputs": [
        {
          "output_type": "stream",
          "name": "stdout",
          "text": [
            "0.11094825488586935\n"
          ]
        }
      ]
    },
    {
      "cell_type": "code",
      "source": [
        "predicted=regression.predict(x1_test)"
      ],
      "metadata": {
        "id": "hBBUnjTh9abr"
      },
      "execution_count": null,
      "outputs": []
    },
    {
      "cell_type": "code",
      "source": [
        "print(x1_test)"
      ],
      "metadata": {
        "colab": {
          "base_uri": "https://localhost:8080/"
        },
        "id": "Nyzu0zKw9eKa",
        "outputId": "1196bb37-5a36-4d90-c970-7f2103dd4c9f"
      },
      "execution_count": null,
      "outputs": [
        {
          "output_type": "stream",
          "name": "stdout",
          "text": [
            "         open     high       low    volume\n",
            "5     130.660  130.940  129.9000  30983542\n",
            "494   152.450  154.070  152.3100  25596687\n",
            "52    116.530  119.990  116.5300  54951597\n",
            "985   206.830  207.760  205.1200  18543206\n",
            "186    96.310   96.900   95.9200  34280758\n",
            "...       ...      ...       ...       ...\n",
            "744   186.550  187.400  185.2200  23211241\n",
            "1002  183.520  184.349  180.2839  38612290\n",
            "922   154.110  154.480  151.7400  25441549\n",
            "459   139.845  141.600  139.7600  25860165\n",
            "911   149.560  151.820  148.5200  41025314\n",
            "\n",
            "[315 rows x 4 columns]\n"
          ]
        }
      ]
    },
    {
      "cell_type": "code",
      "source": [
        "predicted.shape"
      ],
      "metadata": {
        "colab": {
          "base_uri": "https://localhost:8080/"
        },
        "id": "_Y9XvlbX9jkD",
        "outputId": "be0d6ef4-cdb8-46cc-d3d9-445a3688dedb"
      },
      "execution_count": null,
      "outputs": [
        {
          "output_type": "execute_result",
          "data": {
            "text/plain": [
              "(315,)"
            ]
          },
          "metadata": {},
          "execution_count": 52
        }
      ]
    },
    {
      "cell_type": "code",
      "source": [
        "dframe = pd.DataFrame(y1_test,predicted)\n",
        "dfr=pd.DataFrame({'Actual_Price':y1_test, 'Predicted_Price':predicted})\n",
        "print(dfr)"
      ],
      "metadata": {
        "colab": {
          "base_uri": "https://localhost:8080/"
        },
        "id": "pCQZ5Zkd9nFR",
        "outputId": "574e6127-07f8-4839-dd18-f26f9c75c4e4"
      },
      "execution_count": null,
      "outputs": [
        {
          "output_type": "stream",
          "name": "stdout",
          "text": [
            "      Actual_Price  Predicted_Price\n",
            "5           130.12       130.435435\n",
            "494         153.95       153.731535\n",
            "52          119.72       119.118748\n",
            "985         205.28       206.328009\n",
            "186          96.88        96.575683\n",
            "...            ...              ...\n",
            "744         187.36       186.296984\n",
            "1002        183.09       181.541997\n",
            "922         152.70       152.558283\n",
            "459         141.42       141.250455\n",
            "911         150.75       150.462761\n",
            "\n",
            "[315 rows x 2 columns]\n"
          ]
        }
      ]
    },
    {
      "cell_type": "code",
      "source": [
        "dfr.head(10)"
      ],
      "metadata": {
        "colab": {
          "base_uri": "https://localhost:8080/",
          "height": 363
        },
        "id": "ryRit3tS9swS",
        "outputId": "a804a490-8694-456b-93cf-3f8a12cdae42"
      },
      "execution_count": null,
      "outputs": [
        {
          "output_type": "execute_result",
          "data": {
            "text/plain": [
              "     Actual_Price  Predicted_Price\n",
              "5          130.12       130.435435\n",
              "494        153.95       153.731535\n",
              "52         119.72       119.118748\n",
              "985        205.28       206.328009\n",
              "186         96.88        96.575683\n",
              "18         127.61       127.767290\n",
              "317        106.94       107.034249\n",
              "511        154.45       155.399809\n",
              "364        111.59       112.135240\n",
              "571        163.35       163.113563"
            ],
            "text/html": [
              "\n",
              "  <div id=\"df-b4673889-6bdd-4a61-b6e3-a806cb4ca124\">\n",
              "    <div class=\"colab-df-container\">\n",
              "      <div>\n",
              "<style scoped>\n",
              "    .dataframe tbody tr th:only-of-type {\n",
              "        vertical-align: middle;\n",
              "    }\n",
              "\n",
              "    .dataframe tbody tr th {\n",
              "        vertical-align: top;\n",
              "    }\n",
              "\n",
              "    .dataframe thead th {\n",
              "        text-align: right;\n",
              "    }\n",
              "</style>\n",
              "<table border=\"1\" class=\"dataframe\">\n",
              "  <thead>\n",
              "    <tr style=\"text-align: right;\">\n",
              "      <th></th>\n",
              "      <th>Actual_Price</th>\n",
              "      <th>Predicted_Price</th>\n",
              "    </tr>\n",
              "  </thead>\n",
              "  <tbody>\n",
              "    <tr>\n",
              "      <th>5</th>\n",
              "      <td>130.12</td>\n",
              "      <td>130.435435</td>\n",
              "    </tr>\n",
              "    <tr>\n",
              "      <th>494</th>\n",
              "      <td>153.95</td>\n",
              "      <td>153.731535</td>\n",
              "    </tr>\n",
              "    <tr>\n",
              "      <th>52</th>\n",
              "      <td>119.72</td>\n",
              "      <td>119.118748</td>\n",
              "    </tr>\n",
              "    <tr>\n",
              "      <th>985</th>\n",
              "      <td>205.28</td>\n",
              "      <td>206.328009</td>\n",
              "    </tr>\n",
              "    <tr>\n",
              "      <th>186</th>\n",
              "      <td>96.88</td>\n",
              "      <td>96.575683</td>\n",
              "    </tr>\n",
              "    <tr>\n",
              "      <th>18</th>\n",
              "      <td>127.61</td>\n",
              "      <td>127.767290</td>\n",
              "    </tr>\n",
              "    <tr>\n",
              "      <th>317</th>\n",
              "      <td>106.94</td>\n",
              "      <td>107.034249</td>\n",
              "    </tr>\n",
              "    <tr>\n",
              "      <th>511</th>\n",
              "      <td>154.45</td>\n",
              "      <td>155.399809</td>\n",
              "    </tr>\n",
              "    <tr>\n",
              "      <th>364</th>\n",
              "      <td>111.59</td>\n",
              "      <td>112.135240</td>\n",
              "    </tr>\n",
              "    <tr>\n",
              "      <th>571</th>\n",
              "      <td>163.35</td>\n",
              "      <td>163.113563</td>\n",
              "    </tr>\n",
              "  </tbody>\n",
              "</table>\n",
              "</div>\n",
              "      <button class=\"colab-df-convert\" onclick=\"convertToInteractive('df-b4673889-6bdd-4a61-b6e3-a806cb4ca124')\"\n",
              "              title=\"Convert this dataframe to an interactive table.\"\n",
              "              style=\"display:none;\">\n",
              "        \n",
              "  <svg xmlns=\"http://www.w3.org/2000/svg\" height=\"24px\"viewBox=\"0 0 24 24\"\n",
              "       width=\"24px\">\n",
              "    <path d=\"M0 0h24v24H0V0z\" fill=\"none\"/>\n",
              "    <path d=\"M18.56 5.44l.94 2.06.94-2.06 2.06-.94-2.06-.94-.94-2.06-.94 2.06-2.06.94zm-11 1L8.5 8.5l.94-2.06 2.06-.94-2.06-.94L8.5 2.5l-.94 2.06-2.06.94zm10 10l.94 2.06.94-2.06 2.06-.94-2.06-.94-.94-2.06-.94 2.06-2.06.94z\"/><path d=\"M17.41 7.96l-1.37-1.37c-.4-.4-.92-.59-1.43-.59-.52 0-1.04.2-1.43.59L10.3 9.45l-7.72 7.72c-.78.78-.78 2.05 0 2.83L4 21.41c.39.39.9.59 1.41.59.51 0 1.02-.2 1.41-.59l7.78-7.78 2.81-2.81c.8-.78.8-2.07 0-2.86zM5.41 20L4 18.59l7.72-7.72 1.47 1.35L5.41 20z\"/>\n",
              "  </svg>\n",
              "      </button>\n",
              "      \n",
              "  <style>\n",
              "    .colab-df-container {\n",
              "      display:flex;\n",
              "      flex-wrap:wrap;\n",
              "      gap: 12px;\n",
              "    }\n",
              "\n",
              "    .colab-df-convert {\n",
              "      background-color: #E8F0FE;\n",
              "      border: none;\n",
              "      border-radius: 50%;\n",
              "      cursor: pointer;\n",
              "      display: none;\n",
              "      fill: #1967D2;\n",
              "      height: 32px;\n",
              "      padding: 0 0 0 0;\n",
              "      width: 32px;\n",
              "    }\n",
              "\n",
              "    .colab-df-convert:hover {\n",
              "      background-color: #E2EBFA;\n",
              "      box-shadow: 0px 1px 2px rgba(60, 64, 67, 0.3), 0px 1px 3px 1px rgba(60, 64, 67, 0.15);\n",
              "      fill: #174EA6;\n",
              "    }\n",
              "\n",
              "    [theme=dark] .colab-df-convert {\n",
              "      background-color: #3B4455;\n",
              "      fill: #D2E3FC;\n",
              "    }\n",
              "\n",
              "    [theme=dark] .colab-df-convert:hover {\n",
              "      background-color: #434B5C;\n",
              "      box-shadow: 0px 1px 3px 1px rgba(0, 0, 0, 0.15);\n",
              "      filter: drop-shadow(0px 1px 2px rgba(0, 0, 0, 0.3));\n",
              "      fill: #FFFFFF;\n",
              "    }\n",
              "  </style>\n",
              "\n",
              "      <script>\n",
              "        const buttonEl =\n",
              "          document.querySelector('#df-b4673889-6bdd-4a61-b6e3-a806cb4ca124 button.colab-df-convert');\n",
              "        buttonEl.style.display =\n",
              "          google.colab.kernel.accessAllowed ? 'block' : 'none';\n",
              "\n",
              "        async function convertToInteractive(key) {\n",
              "          const element = document.querySelector('#df-b4673889-6bdd-4a61-b6e3-a806cb4ca124');\n",
              "          const dataTable =\n",
              "            await google.colab.kernel.invokeFunction('convertToInteractive',\n",
              "                                                     [key], {});\n",
              "          if (!dataTable) return;\n",
              "\n",
              "          const docLinkHtml = 'Like what you see? Visit the ' +\n",
              "            '<a target=\"_blank\" href=https://colab.research.google.com/notebooks/data_table.ipynb>data table notebook</a>'\n",
              "            + ' to learn more about interactive tables.';\n",
              "          element.innerHTML = '';\n",
              "          dataTable['output_type'] = 'display_data';\n",
              "          await google.colab.output.renderOutput(dataTable, element);\n",
              "          const docLink = document.createElement('div');\n",
              "          docLink.innerHTML = docLinkHtml;\n",
              "          element.appendChild(docLink);\n",
              "        }\n",
              "      </script>\n",
              "    </div>\n",
              "  </div>\n",
              "  "
            ]
          },
          "metadata": {},
          "execution_count": 54
        }
      ]
    },
    {
      "cell_type": "code",
      "source": [
        "from sklearn.metrics import confusion_matrix, accuracy_score"
      ],
      "metadata": {
        "id": "-waQ73mb92K4"
      },
      "execution_count": null,
      "outputs": []
    },
    {
      "cell_type": "code",
      "source": [
        "regression.score(x1_test, y1_test)"
      ],
      "metadata": {
        "colab": {
          "base_uri": "https://localhost:8080/"
        },
        "id": "svCKuG2x95H3",
        "outputId": "80b7c80f-96ca-41ba-de17-e82dea05d9e1"
      },
      "execution_count": null,
      "outputs": [
        {
          "output_type": "execute_result",
          "data": {
            "text/plain": [
              "0.9993380579129287"
            ]
          },
          "metadata": {},
          "execution_count": 56
        }
      ]
    },
    {
      "cell_type": "code",
      "source": [
        "print('Mean Absolute Error:', metrics.mean_absolute_error(y1_test, predicted))\n",
        "print('Mean Squared Error:', metrics.mean_squared_error(y1_test, predicted))\n",
        "print('Root Mean Squared Error:', np.sqrt(metrics.mean_squared_error(y1_test, predicted)))"
      ],
      "metadata": {
        "colab": {
          "base_uri": "https://localhost:8080/"
        },
        "id": "cyEEaET99-Kj",
        "outputId": "256aa493-2648-48a1-9fd3-e3fe0425dddb"
      },
      "execution_count": null,
      "outputs": [
        {
          "output_type": "stream",
          "name": "stdout",
          "text": [
            "Mean Absolute Error: 0.761370236045298\n",
            "Mean Squared Error: 1.976697062918357\n",
            "Root Mean Squared Error: 1.40595059049682\n"
          ]
        }
      ]
    },
    {
      "cell_type": "code",
      "source": [
        "plt.scatter(dfr.Actual_Price, dfr.Predicted_Price,  color='red')\n",
        "plt.xlabel(\"Actual Price\")\n",
        "plt.ylabel(\"Predicted Price\")\n",
        "\n",
        "plt.show()"
      ],
      "metadata": {
        "colab": {
          "base_uri": "https://localhost:8080/",
          "height": 279
        },
        "id": "X2hQa--e-Q3g",
        "outputId": "34a90d64-8628-4bd2-9a03-e586f43f161f"
      },
      "execution_count": null,
      "outputs": [
        {
          "output_type": "display_data",
          "data": {
            "text/plain": [
              "<Figure size 432x288 with 1 Axes>"
            ],
            "image/png": "[encoded data removed]"
          },
          "metadata": {
            "needs_background": "light"
          }
        }
      ]
    }
  ]
}